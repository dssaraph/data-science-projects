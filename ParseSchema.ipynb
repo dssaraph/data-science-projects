{
 "cells": [
  {
   "cell_type": "code",
   "execution_count": 1,
   "metadata": {},
   "outputs": [],
   "source": [
    "from bs4 import BeautifulSoup"
   ]
  },
  {
   "cell_type": "code",
   "execution_count": 2,
   "metadata": {},
   "outputs": [],
   "source": [
    "import requests"
   ]
  },
  {
   "cell_type": "code",
   "execution_count": 3,
   "metadata": {},
   "outputs": [],
   "source": [
    "URL = \"https://developers.brandwatch.com/v2.0/docs/mention-metadata-field-definitions\"\n",
    "headers = {\"User-Agent\" : \"Mozilla/5.0 (Windows NT 10.0; Win64; x64) AppleWebKit/537.36 (KHTML, like Gecko) Chrome/79.0.3945.130 Safari/537.36\"}\n",
    "page = requests.get(URL, headers=headers)\n",
    "soup = BeautifulSoup(page.content, 'html.parser')"
   ]
  },
  {
   "cell_type": "code",
   "execution_count": 4,
   "metadata": {},
   "outputs": [],
   "source": [
    "table = soup.find_all(\"div\",{\"class\":\"td\"})"
   ]
  },
  {
   "cell_type": "code",
   "execution_count": 5,
   "metadata": {},
   "outputs": [],
   "source": [
    "schema = []\n",
    "for i in range(len(table)):\n",
    "    schema.append(table[i].get_text().strip())"
   ]
  },
  {
   "cell_type": "code",
   "execution_count": 6,
   "metadata": {},
   "outputs": [
    {
     "name": "stdout",
     "output_type": "stream",
     "text": [
      "Total 119 fields extracted\n"
     ]
    }
   ],
   "source": [
    "fields = []\n",
    "for i in range(len(schema)):\n",
    "    if i%3==0:\n",
    "        fields.append(schema[i])\n",
    "        \n",
    "print(\"Total {} fields extracted\".format(len(fields)))"
   ]
  },
  {
   "cell_type": "code",
   "execution_count": 7,
   "metadata": {},
   "outputs": [
    {
     "data": {
      "text/plain": [
       "['accountType',\n",
       " 'added',\n",
       " 'assignment',\n",
       " 'author',\n",
       " 'authorCity',\n",
       " 'authorCityCode',\n",
       " 'authorContinent',\n",
       " 'authorContinentCode',\n",
       " 'authorCountry',\n",
       " 'authorCountryCode',\n",
       " 'authorCounty',\n",
       " 'authorCountyCode',\n",
       " 'authorLocation',\n",
       " 'authorState',\n",
       " 'authorStateCode',\n",
       " 'avatarUrl',\n",
       " 'averageDurationOfVisit',\n",
       " 'averageVisits',\n",
       " 'backlinks',\n",
       " 'blogComments',\n",
       " 'categories',\n",
       " 'categoryDetails',\n",
       " 'checked',\n",
       " 'city',\n",
       " 'cityCode',\n",
       " 'continent',\n",
       " 'continentCode',\n",
       " 'country',\n",
       " 'countryCode',\n",
       " 'county',\n",
       " 'countyCode',\n",
       " 'date',\n",
       " 'displayUrls',\n",
       " 'domain',\n",
       " 'engagement',\n",
       " 'expandedUrls',\n",
       " 'facebookAuthorId',\n",
       " 'facebookComments',\n",
       " 'facebookLikes',\n",
       " 'facebookRole',\n",
       " 'facebookShares',\n",
       " 'facebookSubtype',\n",
       " 'forumPosts',\n",
       " 'forumViews',\n",
       " 'fullname',\n",
       " 'gender',\n",
       " 'id',\n",
       " 'impact',\n",
       " 'importanceAmplification',\n",
       " 'importanceReach',\n",
       " 'impressions',\n",
       " 'influence',\n",
       " 'insightsHashtag',\n",
       " 'insightsMentioned',\n",
       " 'instagramCommentCount',\n",
       " 'instagramFollowerCount',\n",
       " 'instagramFollowingCount',\n",
       " 'instagramInteractionsCount',\n",
       " 'instagramLikeCount',\n",
       " 'instagramPostCount',\n",
       " 'interest',\n",
       " 'language',\n",
       " 'lastAssignmentDate',\n",
       " 'latitude',\n",
       " 'locationName',\n",
       " 'longitude',\n",
       " 'matchPositions',\n",
       " 'mediaFilter',\n",
       " 'mediaUrls',\n",
       " 'monthlyVisitors',\n",
       " 'mozRank',\n",
       " 'noteIds',\n",
       " 'originalUrl',\n",
       " 'outreach',\n",
       " 'pageTypeName',\n",
       " 'pagesPerVisit',\n",
       " 'percentFemaleVisitors',\n",
       " 'percentMaleVisitors',\n",
       " 'priority',\n",
       " 'professions',\n",
       " 'queryId',\n",
       " 'queryName',\n",
       " 'reach',\n",
       " 'reachEstimate',\n",
       " 'redditScore',\n",
       " 'region',\n",
       " 'regionCode',\n",
       " 'replyTo',\n",
       " 'resourceId',\n",
       " 'resourceType',\n",
       " 'retweetOf',\n",
       " 'sentiment',\n",
       " 'shortUrls',\n",
       " 'snippet',\n",
       " 'starred',\n",
       " 'state',\n",
       " 'stateCode',\n",
       " 'status',\n",
       " 'subtype',\n",
       " 'tags',\n",
       " 'threadAuthor',\n",
       " 'threadCreated',\n",
       " 'threadEntryType',\n",
       " 'threadId',\n",
       " 'threadURL',\n",
       " 'title',\n",
       " 'trackedLinkClicks',\n",
       " 'trackedLinks',\n",
       " 'twitterAuthorId',\n",
       " 'twitterFollowers',\n",
       " 'twitterFollowing',\n",
       " 'twitterPostCount',\n",
       " 'twitterReplyCount',\n",
       " 'twitterRetweets',\n",
       " 'twitterRole',\n",
       " 'twitterVerified',\n",
       " 'updated',\n",
       " 'url',\n",
       " 'wordCount']"
      ]
     },
     "execution_count": 7,
     "metadata": {},
     "output_type": "execute_result"
    }
   ],
   "source": [
    "fields"
   ]
  },
  {
   "cell_type": "code",
   "execution_count": 8,
   "metadata": {},
   "outputs": [
    {
     "name": "stdout",
     "output_type": "stream",
     "text": [
      "49\n"
     ]
    }
   ],
   "source": [
    "n1 = 7\n",
    "n2 = lambda n2:n2*n1\n",
    "print(n2(7))"
   ]
  },
  {
   "cell_type": "code",
   "execution_count": null,
   "metadata": {},
   "outputs": [],
   "source": []
  }
 ],
 "metadata": {
  "kernelspec": {
   "display_name": "Python 3",
   "language": "python",
   "name": "python3"
  },
  "language_info": {
   "codemirror_mode": {
    "name": "ipython",
    "version": 3
   },
   "file_extension": ".py",
   "mimetype": "text/x-python",
   "name": "python",
   "nbconvert_exporter": "python",
   "pygments_lexer": "ipython3",
   "version": "3.7.6"
  }
 },
 "nbformat": 4,
 "nbformat_minor": 4
}

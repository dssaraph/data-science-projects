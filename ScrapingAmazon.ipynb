{
 "cells": [
  {
   "cell_type": "code",
   "execution_count": 1,
   "metadata": {},
   "outputs": [],
   "source": [
    "from bs4 import BeautifulSoup"
   ]
  },
  {
   "cell_type": "code",
   "execution_count": 2,
   "metadata": {},
   "outputs": [],
   "source": [
    "import requests"
   ]
  },
  {
   "cell_type": "code",
   "execution_count": 3,
   "metadata": {},
   "outputs": [],
   "source": [
    "def find_price(URL):\n",
    "    headers = {\"User-Agent\" : \"Mozilla/5.0 (Windows NT 10.0; Win64; x64) AppleWebKit/537.36 (KHTML, like Gecko) Chrome/79.0.3945.130 Safari/537.36\"}\n",
    "    page = requests.get(URL, headers=headers, verify=False)\n",
    "    soup = BeautifulSoup(page.content, 'html.parser')\n",
    "    if \"In stock.\" in soup.select(\"#availability\")[0].span.get_text().strip():\n",
    "        if soup.find(id=\"priceblock_ourprice\") is not None:\n",
    "            price = soup.find(id=\"priceblock_ourprice\").get_text().strip()\n",
    "        elif soup.find(id=\"priceblock_dealprice\") is not None:\n",
    "            price = soup.find(id=\"priceblock_dealprice\").get_text().strip()\n",
    "        else:\n",
    "            price = soup.find(id=\"priceblock_saleprice\").get_text().strip()\n",
    "\n",
    "        price = price[2:]\n",
    "        p = float(price.replace(\",\",\"\"))\n",
    "        if 'priceBlockStrikePriceString' in soup.find(id=\"price\").span['class']:\n",
    "            print(\"Product is discounted! Buy now at the price of Rs.\",p)\n",
    "        else:\n",
    "            print(\"Product is selling at it's MRP.\",float(soup.find(id=\"price\").span.get_text().strip()[2:].replace(\",\",\"\")))\n",
    "    else:\n",
    "        print(\"Product is unavailable.\")"
   ]
  },
  {
   "cell_type": "code",
   "execution_count": 4,
   "metadata": {},
   "outputs": [],
   "source": [
    "URL = \"https://www.amazon.in/dp/B07HGJKDRR/\""
   ]
  },
  {
   "cell_type": "code",
   "execution_count": 6,
   "metadata": {
    "scrolled": true
   },
   "outputs": [
    {
     "name": "stderr",
     "output_type": "stream",
     "text": [
      "c:\\users\\dsaraph\\appdata\\local\\programs\\python\\python37\\lib\\site-packages\\urllib3\\connectionpool.py:1004: InsecureRequestWarning: Unverified HTTPS request is being made to host 'www.amazon.in'. Adding certificate verification is strongly advised. See: https://urllib3.readthedocs.io/en/latest/advanced-usage.html#ssl-warnings\n",
      "  InsecureRequestWarning,\n"
     ]
    },
    {
     "name": "stdout",
     "output_type": "stream",
     "text": [
      "Product is discounted! Buy now at the price of Rs. 16999.0\n"
     ]
    }
   ],
   "source": [
    "find_price(URL)"
   ]
  }
 ],
 "metadata": {
  "kernelspec": {
   "display_name": "Python 3",
   "language": "python",
   "name": "python3"
  },
  "language_info": {
   "codemirror_mode": {
    "name": "ipython",
    "version": 3
   },
   "file_extension": ".py",
   "mimetype": "text/x-python",
   "name": "python",
   "nbconvert_exporter": "python",
   "pygments_lexer": "ipython3",
   "version": "3.7.6"
  }
 },
 "nbformat": 4,
 "nbformat_minor": 4
}

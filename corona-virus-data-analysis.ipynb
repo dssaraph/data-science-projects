{
 "cells": [
  {
   "cell_type": "code",
   "execution_count": 25,
   "metadata": {},
   "outputs": [],
   "source": [
    "import requests\n",
    "from time import sleep\n",
    "from matplotlib import pyplot as plt\n",
    "from bs4 import BeautifulSoup\n",
    "from dateutil.parser import parse\n",
    "import pandas as pd\n",
    "from datetime import datetime, timezone"
   ]
  },
  {
   "cell_type": "code",
   "execution_count": 26,
   "metadata": {},
   "outputs": [],
   "source": [
    "URL = \"https://www.worldometers.info/coronavirus\""
   ]
  },
  {
   "cell_type": "code",
   "execution_count": 27,
   "metadata": {},
   "outputs": [],
   "source": [
    "headers = {\"User-Agent\" : \"Mozilla/5.0 (Windows NT 10.0; Win64; x64) AppleWebKit/537.36 (KHTML, like Gecko) Chrome/80.0.3987.122 Safari/537.36\"}\n",
    "page = requests.get(URL, headers=headers)  #, verify=False)\n",
    "soup = BeautifulSoup(page.content, 'html.parser')"
   ]
  },
  {
   "cell_type": "code",
   "execution_count": 28,
   "metadata": {},
   "outputs": [],
   "source": [
    "cases = int(soup.find_all(\"div\",{\"class\":\"maincounter-number\"})[0].span.get_text().strip().replace(\",\",\"\"))\n",
    "deaths = int(soup.find_all(\"div\",{\"class\":\"maincounter-number\"})[1].span.get_text().strip().replace(\",\",\"\"))\n",
    "recoveries = int(soup.find_all(\"div\",{\"class\":\"maincounter-number\"})[2].span.get_text().strip().replace(\",\",\"\"))\n",
    "mild_condition = int(soup.find_all(\"span\",{\"class\":\"number-table\"})[0].get_text().strip().replace(\",\",\"\"))"
   ]
  },
  {
   "cell_type": "code",
   "execution_count": 30,
   "metadata": {},
   "outputs": [],
   "source": [
    "closed_cases = recoveries + deaths"
   ]
  },
  {
   "cell_type": "code",
   "execution_count": 31,
   "metadata": {},
   "outputs": [],
   "source": [
    "active_cases = cases - recoveries - deaths"
   ]
  },
  {
   "cell_type": "code",
   "execution_count": 32,
   "metadata": {},
   "outputs": [],
   "source": [
    "critical = active_cases - mild_condition"
   ]
  },
  {
   "cell_type": "code",
   "execution_count": 33,
   "metadata": {},
   "outputs": [],
   "source": [
    "last_updated = soup.find(\"div\", {\"style\":\"font-size:13px; color:#999; text-align:center\"}).get_text().strip(\"Last updated: \")\n",
    "last_updated = parse(last_updated, fuzzy=True)\n",
    "last_updated = last_updated.replace(tzinfo=timezone.utc).astimezone(tz=None)"
   ]
  },
  {
   "cell_type": "code",
   "execution_count": 34,
   "metadata": {},
   "outputs": [],
   "source": [
    "header = soup.find_all(\"th\")\n",
    "table = soup.find_all(\"td\")"
   ]
  },
  {
   "cell_type": "code",
   "execution_count": 35,
   "metadata": {},
   "outputs": [],
   "source": [
    "headers = []\n",
    "for i in range(len(header)):\n",
    "    headers.append(header[i].get_text().strip())"
   ]
  },
  {
   "cell_type": "code",
   "execution_count": 36,
   "metadata": {},
   "outputs": [],
   "source": [
    "corona_data = pd.DataFrame(columns=headers)"
   ]
  },
  {
   "cell_type": "code",
   "execution_count": 37,
   "metadata": {},
   "outputs": [],
   "source": [
    "rows = int(len(table)/len(header))\n",
    "cols = int(len(table))"
   ]
  },
  {
   "cell_type": "code",
   "execution_count": 38,
   "metadata": {},
   "outputs": [],
   "source": [
    "values = []\n",
    "for i in range(cols):\n",
    "    values.append(table[i].get_text().strip())"
   ]
  },
  {
   "cell_type": "code",
   "execution_count": 39,
   "metadata": {},
   "outputs": [],
   "source": [
    "for i in range(rows):\n",
    "    corona_data.loc[len(corona_data)] = values[i*9:(i+1)*9]"
   ]
  },
  {
   "cell_type": "code",
   "execution_count": 40,
   "metadata": {},
   "outputs": [],
   "source": [
    "corona_data.set_index(headers[0], inplace=True)"
   ]
  },
  {
   "cell_type": "code",
   "execution_count": 41,
   "metadata": {},
   "outputs": [],
   "source": [
    "corona_data = corona_data.replace('[\\+]', '', regex=True)\n",
    "corona_data = corona_data.replace(',', '', regex=True)\n",
    "corona_data = corona_data.drop(['Total:'])"
   ]
  },
  {
   "cell_type": "code",
   "execution_count": 42,
   "metadata": {},
   "outputs": [
    {
     "data": {
      "text/html": [
       "<div>\n",
       "<style scoped>\n",
       "    .dataframe tbody tr th:only-of-type {\n",
       "        vertical-align: middle;\n",
       "    }\n",
       "\n",
       "    .dataframe tbody tr th {\n",
       "        vertical-align: top;\n",
       "    }\n",
       "\n",
       "    .dataframe thead th {\n",
       "        text-align: right;\n",
       "    }\n",
       "</style>\n",
       "<table border=\"1\" class=\"dataframe\">\n",
       "  <thead>\n",
       "    <tr style=\"text-align: right;\">\n",
       "      <th></th>\n",
       "      <th>TotalCases</th>\n",
       "      <th>NewCases</th>\n",
       "      <th>TotalDeaths</th>\n",
       "      <th>NewDeaths</th>\n",
       "      <th>TotalRecovered</th>\n",
       "      <th>ActiveCases</th>\n",
       "      <th>Serious,Critical</th>\n",
       "      <th>Tot Cases/1M pop</th>\n",
       "    </tr>\n",
       "    <tr>\n",
       "      <th>Country,Other</th>\n",
       "      <th></th>\n",
       "      <th></th>\n",
       "      <th></th>\n",
       "      <th></th>\n",
       "      <th></th>\n",
       "      <th></th>\n",
       "      <th></th>\n",
       "      <th></th>\n",
       "    </tr>\n",
       "  </thead>\n",
       "  <tbody>\n",
       "    <tr>\n",
       "      <th>China</th>\n",
       "      <td>80881</td>\n",
       "      <td>21.0</td>\n",
       "      <td>3226.0</td>\n",
       "      <td>13.0</td>\n",
       "      <td>68690.0</td>\n",
       "      <td>8965</td>\n",
       "      <td>3226.0</td>\n",
       "      <td>56.2</td>\n",
       "    </tr>\n",
       "    <tr>\n",
       "      <th>Italy</th>\n",
       "      <td>27980</td>\n",
       "      <td>NaN</td>\n",
       "      <td>2158.0</td>\n",
       "      <td>NaN</td>\n",
       "      <td>2749.0</td>\n",
       "      <td>23073</td>\n",
       "      <td>1851.0</td>\n",
       "      <td>NaN</td>\n",
       "    </tr>\n",
       "    <tr>\n",
       "      <th>Iran</th>\n",
       "      <td>14991</td>\n",
       "      <td>NaN</td>\n",
       "      <td>853.0</td>\n",
       "      <td>NaN</td>\n",
       "      <td>4996.0</td>\n",
       "      <td>9142</td>\n",
       "      <td>NaN</td>\n",
       "      <td>178.5</td>\n",
       "    </tr>\n",
       "    <tr>\n",
       "      <th>Spain</th>\n",
       "      <td>9942</td>\n",
       "      <td>NaN</td>\n",
       "      <td>342.0</td>\n",
       "      <td>NaN</td>\n",
       "      <td>530.0</td>\n",
       "      <td>9070</td>\n",
       "      <td>272.0</td>\n",
       "      <td>212.6</td>\n",
       "    </tr>\n",
       "    <tr>\n",
       "      <th>S. Korea</th>\n",
       "      <td>8320</td>\n",
       "      <td>84.0</td>\n",
       "      <td>81.0</td>\n",
       "      <td>6.0</td>\n",
       "      <td>1401.0</td>\n",
       "      <td>6838</td>\n",
       "      <td>59.0</td>\n",
       "      <td>162.3</td>\n",
       "    </tr>\n",
       "    <tr>\n",
       "      <th>...</th>\n",
       "      <td>...</td>\n",
       "      <td>...</td>\n",
       "      <td>...</td>\n",
       "      <td>...</td>\n",
       "      <td>...</td>\n",
       "      <td>...</td>\n",
       "      <td>...</td>\n",
       "      <td>...</td>\n",
       "    </tr>\n",
       "    <tr>\n",
       "      <th>Suriname</th>\n",
       "      <td>1</td>\n",
       "      <td>NaN</td>\n",
       "      <td>NaN</td>\n",
       "      <td>NaN</td>\n",
       "      <td>NaN</td>\n",
       "      <td>1</td>\n",
       "      <td>NaN</td>\n",
       "      <td>NaN</td>\n",
       "    </tr>\n",
       "    <tr>\n",
       "      <th>Eswatini</th>\n",
       "      <td>1</td>\n",
       "      <td>NaN</td>\n",
       "      <td>NaN</td>\n",
       "      <td>NaN</td>\n",
       "      <td>NaN</td>\n",
       "      <td>1</td>\n",
       "      <td>NaN</td>\n",
       "      <td>0.9</td>\n",
       "    </tr>\n",
       "    <tr>\n",
       "      <th>Tanzania</th>\n",
       "      <td>1</td>\n",
       "      <td>NaN</td>\n",
       "      <td>NaN</td>\n",
       "      <td>NaN</td>\n",
       "      <td>NaN</td>\n",
       "      <td>1</td>\n",
       "      <td>NaN</td>\n",
       "      <td>NaN</td>\n",
       "    </tr>\n",
       "    <tr>\n",
       "      <th>Togo</th>\n",
       "      <td>1</td>\n",
       "      <td>NaN</td>\n",
       "      <td>NaN</td>\n",
       "      <td>NaN</td>\n",
       "      <td>NaN</td>\n",
       "      <td>1</td>\n",
       "      <td>NaN</td>\n",
       "      <td>0.1</td>\n",
       "    </tr>\n",
       "    <tr>\n",
       "      <th>U.S. Virgin Islands</th>\n",
       "      <td>1</td>\n",
       "      <td>NaN</td>\n",
       "      <td>NaN</td>\n",
       "      <td>NaN</td>\n",
       "      <td>NaN</td>\n",
       "      <td>1</td>\n",
       "      <td>NaN</td>\n",
       "      <td>NaN</td>\n",
       "    </tr>\n",
       "  </tbody>\n",
       "</table>\n",
       "<p>163 rows × 8 columns</p>\n",
       "</div>"
      ],
      "text/plain": [
       "                     TotalCases  NewCases  TotalDeaths  NewDeaths  \\\n",
       "Country,Other                                                       \n",
       "China                     80881      21.0       3226.0       13.0   \n",
       "Italy                     27980       NaN       2158.0        NaN   \n",
       "Iran                      14991       NaN        853.0        NaN   \n",
       "Spain                      9942       NaN        342.0        NaN   \n",
       "S. Korea                   8320      84.0         81.0        6.0   \n",
       "...                         ...       ...          ...        ...   \n",
       "Suriname                      1       NaN          NaN        NaN   \n",
       "Eswatini                      1       NaN          NaN        NaN   \n",
       "Tanzania                      1       NaN          NaN        NaN   \n",
       "Togo                          1       NaN          NaN        NaN   \n",
       "U.S. Virgin Islands           1       NaN          NaN        NaN   \n",
       "\n",
       "                     TotalRecovered  ActiveCases  Serious,Critical  \\\n",
       "Country,Other                                                        \n",
       "China                       68690.0         8965            3226.0   \n",
       "Italy                        2749.0        23073            1851.0   \n",
       "Iran                         4996.0         9142               NaN   \n",
       "Spain                         530.0         9070             272.0   \n",
       "S. Korea                     1401.0         6838              59.0   \n",
       "...                             ...          ...               ...   \n",
       "Suriname                        NaN            1               NaN   \n",
       "Eswatini                        NaN            1               NaN   \n",
       "Tanzania                        NaN            1               NaN   \n",
       "Togo                            NaN            1               NaN   \n",
       "U.S. Virgin Islands             NaN            1               NaN   \n",
       "\n",
       "                     Tot Cases/1M pop  \n",
       "Country,Other                          \n",
       "China                            56.2  \n",
       "Italy                             NaN  \n",
       "Iran                            178.5  \n",
       "Spain                           212.6  \n",
       "S. Korea                        162.3  \n",
       "...                               ...  \n",
       "Suriname                          NaN  \n",
       "Eswatini                          0.9  \n",
       "Tanzania                          NaN  \n",
       "Togo                              0.1  \n",
       "U.S. Virgin Islands               NaN  \n",
       "\n",
       "[163 rows x 8 columns]"
      ]
     },
     "execution_count": 42,
     "metadata": {},
     "output_type": "execute_result"
    }
   ],
   "source": [
    "corona_data.apply(pd.to_numeric)"
   ]
  },
  {
   "cell_type": "code",
   "execution_count": 43,
   "metadata": {},
   "outputs": [],
   "source": [
    "corona_excel = corona_data.to_excel(r\"C:\\Users\\dsaraph\\OneDrive - Capgemini\\data-science\\data.xlsx\", sheet_name='Data')"
   ]
  },
  {
   "cell_type": "code",
   "execution_count": 44,
   "metadata": {},
   "outputs": [],
   "source": [
    "import openpyxl\n",
    "wb = openpyxl.load_workbook(r'C:\\Users\\dsaraph\\OneDrive - Capgemini\\data-science\\data.xlsx')"
   ]
  },
  {
   "cell_type": "code",
   "execution_count": 45,
   "metadata": {},
   "outputs": [],
   "source": [
    "wb1 = wb.create_sheet(\"Last Updated\")"
   ]
  },
  {
   "cell_type": "code",
   "execution_count": 46,
   "metadata": {},
   "outputs": [],
   "source": [
    "wb1['A1'] =\"Last Updated\""
   ]
  },
  {
   "cell_type": "code",
   "execution_count": 47,
   "metadata": {},
   "outputs": [],
   "source": [
    "wb1['A2'] = last_updated"
   ]
  },
  {
   "cell_type": "code",
   "execution_count": 48,
   "metadata": {},
   "outputs": [],
   "source": [
    "wb.save(r'C:\\Users\\dsaraph\\OneDrive - Capgemini\\data-science\\data.xlsx')"
   ]
  },
  {
   "cell_type": "code",
   "execution_count": null,
   "metadata": {},
   "outputs": [],
   "source": []
  }
 ],
 "metadata": {
  "kernelspec": {
   "display_name": "Python 3",
   "language": "python",
   "name": "python3"
  },
  "language_info": {
   "codemirror_mode": {
    "name": "ipython",
    "version": 3
   },
   "file_extension": ".py",
   "mimetype": "text/x-python",
   "name": "python",
   "nbconvert_exporter": "python",
   "pygments_lexer": "ipython3",
   "version": "3.7.6"
  }
 },
 "nbformat": 4,
 "nbformat_minor": 4
}

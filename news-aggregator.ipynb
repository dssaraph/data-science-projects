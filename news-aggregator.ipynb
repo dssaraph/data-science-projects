{
 "cells": [
  {
   "cell_type": "code",
   "execution_count": 32,
   "metadata": {},
   "outputs": [],
   "source": [
    "import requests\n",
    "from bs4 import BeautifulSoup\n",
    "# from dateutil.parser import parse\n",
    "# import pandas as pd\n",
    "# from datetime import datetime, timezone"
   ]
  },
  {
   "cell_type": "code",
   "execution_count": 33,
   "metadata": {},
   "outputs": [],
   "source": [
    "URL = \"https://pulse.zerodha.com\""
   ]
  },
  {
   "cell_type": "code",
   "execution_count": 34,
   "metadata": {},
   "outputs": [],
   "source": [
    "headers = {\"User-Agent\" : \"Mozilla/5.0 (Windows NT 10.0; Win64; x64) AppleWebKit/537.36 (KHTML, like Gecko) Chrome/80.0.3987.122 Safari/537.36\"}\n",
    "page = requests.get(URL, headers=headers)\n",
    "soup = BeautifulSoup(page.content, 'html.parser')\n",
    "news = soup.find_all(\"li\", {\"class\":\"box item\"})"
   ]
  },
  {
   "cell_type": "code",
   "execution_count": 35,
   "metadata": {},
   "outputs": [],
   "source": [
    "headings = []\n",
    "descriptions = []\n",
    "links = []\n",
    "time_published = []\n",
    "publisher = []\n",
    "images = []\n",
    "for i in news:\n",
    "    headings.append(i.find(\"h2\").get_text().strip())\n",
    "    descriptions.append(i.find(\"div\", {\"class\":\"desc\"}).get_text().strip())\n",
    "    links.append(i.a[\"href\"].strip())\n",
    "    time_published.append(i.span[\"title\"])\n",
    "    publisher.append(i.find(\"span\", {\"class\":\"feed\"}).get_text().strip().replace(\"— \",\"\"))\n",
    "    img_link = i.find(\"div\",{\"class\":\"desc\"}).img\n",
    "    if img_link is not None:\n",
    "        images.append(i.find(\"div\",{\"class\":\"desc\"}).img[\"data-src\"])\n",
    "    else:\n",
    "        images.append(None) "
   ]
  }
 ],
 "metadata": {
  "kernelspec": {
   "display_name": "Python 3",
   "language": "python",
   "name": "python3"
  },
  "language_info": {
   "codemirror_mode": {
    "name": "ipython",
    "version": 3
   },
   "file_extension": ".py",
   "mimetype": "text/x-python",
   "name": "python",
   "nbconvert_exporter": "python",
   "pygments_lexer": "ipython3",
   "version": "3.7.6"
  }
 },
 "nbformat": 4,
 "nbformat_minor": 4
}

{
 "cells": [
  {
   "cell_type": "code",
   "execution_count": 42,
   "metadata": {},
   "outputs": [],
   "source": [
    "import requests\n",
    "from time import sleep\n",
    "from matplotlib import pyplot as plt\n",
    "from bs4 import BeautifulSoup\n",
    "from dateutil.parser import parse\n",
    "import pandas as pd\n",
    "from datetime import datetime, timezone"
   ]
  },
  {
   "cell_type": "code",
   "execution_count": 2,
   "metadata": {},
   "outputs": [],
   "source": [
    "URL = \"https://www.worldometers.info/coronavirus\""
   ]
  },
  {
   "cell_type": "code",
   "execution_count": 3,
   "metadata": {},
   "outputs": [
    {
     "name": "stderr",
     "output_type": "stream",
     "text": [
      "c:\\users\\dsaraph\\appdata\\local\\programs\\python\\python37\\lib\\site-packages\\urllib3\\connectionpool.py:1004: InsecureRequestWarning: Unverified HTTPS request is being made to host 'www.worldometers.info'. Adding certificate verification is strongly advised. See: https://urllib3.readthedocs.io/en/latest/advanced-usage.html#ssl-warnings\n",
      "  InsecureRequestWarning,\n",
      "c:\\users\\dsaraph\\appdata\\local\\programs\\python\\python37\\lib\\site-packages\\urllib3\\connectionpool.py:1004: InsecureRequestWarning: Unverified HTTPS request is being made to host 'www.worldometers.info'. Adding certificate verification is strongly advised. See: https://urllib3.readthedocs.io/en/latest/advanced-usage.html#ssl-warnings\n",
      "  InsecureRequestWarning,\n"
     ]
    }
   ],
   "source": [
    "headers = {\"User-Agent\" : \"Mozilla/5.0 (Windows NT 10.0; Win64; x64) AppleWebKit/537.36 (KHTML, like Gecko) Chrome/80.0.3987.132 Safari/537.36\"}\n",
    "page = requests.get(URL, headers=headers, verify=False)\n",
    "soup = BeautifulSoup(page.content, 'html.parser')"
   ]
  },
  {
   "cell_type": "code",
   "execution_count": 4,
   "metadata": {},
   "outputs": [],
   "source": [
    "cases = int(soup.find_all(\"div\",{\"class\":\"maincounter-number\"})[0].span.get_text().strip().replace(\",\",\"\"))\n",
    "deaths = int(soup.find_all(\"div\",{\"class\":\"maincounter-number\"})[1].span.get_text().strip().replace(\",\",\"\"))\n",
    "recoveries = int(soup.find_all(\"div\",{\"class\":\"maincounter-number\"})[2].span.get_text().strip().replace(\",\",\"\"))\n",
    "mild_condition = int(soup.find_all(\"span\",{\"class\":\"number-table\"})[0].get_text().strip().replace(\",\",\"\"))"
   ]
  },
  {
   "cell_type": "code",
   "execution_count": 5,
   "metadata": {},
   "outputs": [],
   "source": [
    "closed_cases = recoveries + deaths"
   ]
  },
  {
   "cell_type": "code",
   "execution_count": 6,
   "metadata": {},
   "outputs": [],
   "source": [
    "active_cases = cases - recoveries - deaths"
   ]
  },
  {
   "cell_type": "code",
   "execution_count": 7,
   "metadata": {},
   "outputs": [],
   "source": [
    "critical = active_cases - mild_condition"
   ]
  },
  {
   "cell_type": "code",
   "execution_count": 8,
   "metadata": {},
   "outputs": [],
   "source": [
    "last_updated = soup.find(\"div\", {\"style\":\"font-size:13px; color:#999; text-align:center\"}).get_text().strip(\"Last updated: \")\n",
    "last_updated = parse(last_updated, fuzzy=True)\n",
    "last_updated = last_updated.replace(tzinfo=timezone.utc).astimezone(tz=None)"
   ]
  },
  {
   "cell_type": "code",
   "execution_count": 9,
   "metadata": {},
   "outputs": [],
   "source": [
    "header = soup.find_all(\"th\")\n",
    "table = soup.find_all(\"td\")"
   ]
  },
  {
   "cell_type": "code",
   "execution_count": 10,
   "metadata": {},
   "outputs": [],
   "source": [
    "headers = []\n",
    "for i in range(len(header)):\n",
    "    headers.append(header[i].get_text().strip())"
   ]
  },
  {
   "cell_type": "code",
   "execution_count": 11,
   "metadata": {},
   "outputs": [],
   "source": [
    "corona_data = pd.DataFrame(columns=headers)"
   ]
  },
  {
   "cell_type": "code",
   "execution_count": 12,
   "metadata": {},
   "outputs": [],
   "source": [
    "rows = int(len(table)/len(header))\n",
    "cols = int(len(table))"
   ]
  },
  {
   "cell_type": "code",
   "execution_count": 13,
   "metadata": {},
   "outputs": [],
   "source": [
    "values = []\n",
    "for i in range(cols):\n",
    "    values.append(table[i].get_text().strip())"
   ]
  },
  {
   "cell_type": "code",
   "execution_count": 14,
   "metadata": {},
   "outputs": [],
   "source": [
    "for i in range(rows):\n",
    "    corona_data.loc[len(corona_data)] = values[i*9:(i+1)*9]"
   ]
  },
  {
   "cell_type": "code",
   "execution_count": 15,
   "metadata": {},
   "outputs": [],
   "source": [
    "corona_data.set_index(headers[0], inplace=True)"
   ]
  },
  {
   "cell_type": "code",
   "execution_count": 16,
   "metadata": {},
   "outputs": [],
   "source": [
    "corona_data = corona_data.replace('[\\+]', '', regex=True)\n",
    "corona_data = corona_data.replace(',', '', regex=True)"
   ]
  },
  {
   "cell_type": "code",
   "execution_count": 17,
   "metadata": {},
   "outputs": [
    {
     "data": {
      "text/html": [
       "<div>\n",
       "<style scoped>\n",
       "    .dataframe tbody tr th:only-of-type {\n",
       "        vertical-align: middle;\n",
       "    }\n",
       "\n",
       "    .dataframe tbody tr th {\n",
       "        vertical-align: top;\n",
       "    }\n",
       "\n",
       "    .dataframe thead th {\n",
       "        text-align: right;\n",
       "    }\n",
       "</style>\n",
       "<table border=\"1\" class=\"dataframe\">\n",
       "  <thead>\n",
       "    <tr style=\"text-align: right;\">\n",
       "      <th></th>\n",
       "      <th>TotalCases</th>\n",
       "      <th>NewCases</th>\n",
       "      <th>TotalDeaths</th>\n",
       "      <th>NewDeaths</th>\n",
       "      <th>TotalRecovered</th>\n",
       "      <th>ActiveCases</th>\n",
       "      <th>Serious,Critical</th>\n",
       "      <th>Tot Cases/1M pop</th>\n",
       "    </tr>\n",
       "    <tr>\n",
       "      <th>Country,Other</th>\n",
       "      <th></th>\n",
       "      <th></th>\n",
       "      <th></th>\n",
       "      <th></th>\n",
       "      <th></th>\n",
       "      <th></th>\n",
       "      <th></th>\n",
       "      <th></th>\n",
       "    </tr>\n",
       "  </thead>\n",
       "  <tbody>\n",
       "    <tr>\n",
       "      <th>China</th>\n",
       "      <td>80880</td>\n",
       "      <td>36.0</td>\n",
       "      <td>3213.0</td>\n",
       "      <td>14.0</td>\n",
       "      <td>67769.0</td>\n",
       "      <td>9898</td>\n",
       "      <td>3226.0</td>\n",
       "      <td>56.2</td>\n",
       "    </tr>\n",
       "    <tr>\n",
       "      <th>Italy</th>\n",
       "      <td>24747</td>\n",
       "      <td>NaN</td>\n",
       "      <td>1809.0</td>\n",
       "      <td>NaN</td>\n",
       "      <td>2335.0</td>\n",
       "      <td>20603</td>\n",
       "      <td>1672.0</td>\n",
       "      <td>409.3</td>\n",
       "    </tr>\n",
       "    <tr>\n",
       "      <th>Iran</th>\n",
       "      <td>13938</td>\n",
       "      <td>NaN</td>\n",
       "      <td>724.0</td>\n",
       "      <td>NaN</td>\n",
       "      <td>4590.0</td>\n",
       "      <td>8624</td>\n",
       "      <td>NaN</td>\n",
       "      <td>165.9</td>\n",
       "    </tr>\n",
       "    <tr>\n",
       "      <th>Spain</th>\n",
       "      <td>8744</td>\n",
       "      <td>756.0</td>\n",
       "      <td>294.0</td>\n",
       "      <td>NaN</td>\n",
       "      <td>517.0</td>\n",
       "      <td>7933</td>\n",
       "      <td>272.0</td>\n",
       "      <td>187.0</td>\n",
       "    </tr>\n",
       "    <tr>\n",
       "      <th>S. Korea</th>\n",
       "      <td>8236</td>\n",
       "      <td>74.0</td>\n",
       "      <td>75.0</td>\n",
       "      <td>NaN</td>\n",
       "      <td>1137.0</td>\n",
       "      <td>7024</td>\n",
       "      <td>59.0</td>\n",
       "      <td>160.6</td>\n",
       "    </tr>\n",
       "    <tr>\n",
       "      <th>...</th>\n",
       "      <td>...</td>\n",
       "      <td>...</td>\n",
       "      <td>...</td>\n",
       "      <td>...</td>\n",
       "      <td>...</td>\n",
       "      <td>...</td>\n",
       "      <td>...</td>\n",
       "      <td>...</td>\n",
       "    </tr>\n",
       "    <tr>\n",
       "      <th>Suriname</th>\n",
       "      <td>1</td>\n",
       "      <td>NaN</td>\n",
       "      <td>NaN</td>\n",
       "      <td>NaN</td>\n",
       "      <td>NaN</td>\n",
       "      <td>1</td>\n",
       "      <td>NaN</td>\n",
       "      <td>NaN</td>\n",
       "    </tr>\n",
       "    <tr>\n",
       "      <th>Eswatini</th>\n",
       "      <td>1</td>\n",
       "      <td>NaN</td>\n",
       "      <td>NaN</td>\n",
       "      <td>NaN</td>\n",
       "      <td>NaN</td>\n",
       "      <td>1</td>\n",
       "      <td>NaN</td>\n",
       "      <td>0.9</td>\n",
       "    </tr>\n",
       "    <tr>\n",
       "      <th>Togo</th>\n",
       "      <td>1</td>\n",
       "      <td>NaN</td>\n",
       "      <td>NaN</td>\n",
       "      <td>NaN</td>\n",
       "      <td>NaN</td>\n",
       "      <td>1</td>\n",
       "      <td>NaN</td>\n",
       "      <td>0.1</td>\n",
       "    </tr>\n",
       "    <tr>\n",
       "      <th>U.S. Virgin Islands</th>\n",
       "      <td>1</td>\n",
       "      <td>NaN</td>\n",
       "      <td>NaN</td>\n",
       "      <td>NaN</td>\n",
       "      <td>NaN</td>\n",
       "      <td>1</td>\n",
       "      <td>NaN</td>\n",
       "      <td>NaN</td>\n",
       "    </tr>\n",
       "    <tr>\n",
       "      <th>Total:</th>\n",
       "      <td>171881</td>\n",
       "      <td>2331.0</td>\n",
       "      <td>6526.0</td>\n",
       "      <td>21.0</td>\n",
       "      <td>77781.0</td>\n",
       "      <td>87574</td>\n",
       "      <td>5927.0</td>\n",
       "      <td>22.1</td>\n",
       "    </tr>\n",
       "  </tbody>\n",
       "</table>\n",
       "<p>160 rows × 8 columns</p>\n",
       "</div>"
      ],
      "text/plain": [
       "                     TotalCases  NewCases  TotalDeaths  NewDeaths  \\\n",
       "Country,Other                                                       \n",
       "China                     80880      36.0       3213.0       14.0   \n",
       "Italy                     24747       NaN       1809.0        NaN   \n",
       "Iran                      13938       NaN        724.0        NaN   \n",
       "Spain                      8744     756.0        294.0        NaN   \n",
       "S. Korea                   8236      74.0         75.0        NaN   \n",
       "...                         ...       ...          ...        ...   \n",
       "Suriname                      1       NaN          NaN        NaN   \n",
       "Eswatini                      1       NaN          NaN        NaN   \n",
       "Togo                          1       NaN          NaN        NaN   \n",
       "U.S. Virgin Islands           1       NaN          NaN        NaN   \n",
       "Total:                   171881    2331.0       6526.0       21.0   \n",
       "\n",
       "                     TotalRecovered  ActiveCases  Serious,Critical  \\\n",
       "Country,Other                                                        \n",
       "China                       67769.0         9898            3226.0   \n",
       "Italy                        2335.0        20603            1672.0   \n",
       "Iran                         4590.0         8624               NaN   \n",
       "Spain                         517.0         7933             272.0   \n",
       "S. Korea                     1137.0         7024              59.0   \n",
       "...                             ...          ...               ...   \n",
       "Suriname                        NaN            1               NaN   \n",
       "Eswatini                        NaN            1               NaN   \n",
       "Togo                            NaN            1               NaN   \n",
       "U.S. Virgin Islands             NaN            1               NaN   \n",
       "Total:                      77781.0        87574            5927.0   \n",
       "\n",
       "                     Tot Cases/1M pop  \n",
       "Country,Other                          \n",
       "China                            56.2  \n",
       "Italy                           409.3  \n",
       "Iran                            165.9  \n",
       "Spain                           187.0  \n",
       "S. Korea                        160.6  \n",
       "...                               ...  \n",
       "Suriname                          NaN  \n",
       "Eswatini                          0.9  \n",
       "Togo                              0.1  \n",
       "U.S. Virgin Islands               NaN  \n",
       "Total:                           22.1  \n",
       "\n",
       "[160 rows x 8 columns]"
      ]
     },
     "execution_count": 17,
     "metadata": {},
     "output_type": "execute_result"
    }
   ],
   "source": [
    "corona_data.apply(pd.to_numeric)"
   ]
  },
  {
   "cell_type": "code",
   "execution_count": 18,
   "metadata": {},
   "outputs": [],
   "source": [
    "corona_csv = corona_data.to_csv(r\"C:\\Users\\dsaraph\\OneDrive - Capgemini\\data-science\\data.csv\", index=True)"
   ]
  },
  {
   "cell_type": "code",
   "execution_count": 19,
   "metadata": {},
   "outputs": [
    {
     "data": {
      "text/plain": [
       "datetime.datetime(2020, 3, 16, 10, 55, tzinfo=tzutc())"
      ]
     },
     "execution_count": 19,
     "metadata": {},
     "output_type": "execute_result"
    }
   ],
   "source": [
    "last_updated"
   ]
  },
  {
   "cell_type": "code",
   "execution_count": 20,
   "metadata": {},
   "outputs": [],
   "source": [
    "corona_excel = corona_data.to_excel(r\"C:\\Users\\dsaraph\\OneDrive - Capgemini\\data-science\\data.xlsx\", sheet_name='Data')"
   ]
  },
  {
   "cell_type": "code",
   "execution_count": 53,
   "metadata": {},
   "outputs": [],
   "source": [
    "import openpyxl\n",
    "wb = openpyxl.load_workbook(r'C:\\Users\\dsaraph\\OneDrive - Capgemini\\data-science\\data.xlsx')"
   ]
  },
  {
   "cell_type": "code",
   "execution_count": 54,
   "metadata": {},
   "outputs": [],
   "source": [
    "wb1 = wb[\"Last Updated\"]"
   ]
  },
  {
   "cell_type": "code",
   "execution_count": 55,
   "metadata": {},
   "outputs": [],
   "source": [
    "wb1['A1']=\"Last Updated\""
   ]
  },
  {
   "cell_type": "code",
   "execution_count": 56,
   "metadata": {},
   "outputs": [],
   "source": [
    "wb1['A2']= last_updated"
   ]
  },
  {
   "cell_type": "code",
   "execution_count": 57,
   "metadata": {},
   "outputs": [],
   "source": [
    "wb.save(r'C:\\Users\\dsaraph\\OneDrive - Capgemini\\data-science\\data.xlsx')"
   ]
  },
  {
   "cell_type": "code",
   "execution_count": 45,
   "metadata": {},
   "outputs": [],
   "source": [
    "last_updated = last_updated.replace(tzinfo=timezone.utc).astimezone(tz=None)"
   ]
  },
  {
   "cell_type": "code",
   "execution_count": 52,
   "metadata": {},
   "outputs": [
    {
     "data": {
      "text/plain": [
       "datetime.datetime(2020, 3, 16, 16, 25, tzinfo=datetime.timezone(datetime.timedelta(seconds=19800), 'India Standard Time'))"
      ]
     },
     "execution_count": 52,
     "metadata": {},
     "output_type": "execute_result"
    }
   ],
   "source": [
    "last_updated"
   ]
  },
  {
   "cell_type": "code",
   "execution_count": null,
   "metadata": {},
   "outputs": [],
   "source": []
  }
 ],
 "metadata": {
  "kernelspec": {
   "display_name": "Python 3",
   "language": "python",
   "name": "python3"
  },
  "language_info": {
   "codemirror_mode": {
    "name": "ipython",
    "version": 3
   },
   "file_extension": ".py",
   "mimetype": "text/x-python",
   "name": "python",
   "nbconvert_exporter": "python",
   "pygments_lexer": "ipython3",
   "version": "3.7.6"
  }
 },
 "nbformat": 4,
 "nbformat_minor": 4
}

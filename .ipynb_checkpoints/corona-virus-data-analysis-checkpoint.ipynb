{
 "cells": [
  {
   "cell_type": "code",
   "execution_count": 1,
   "metadata": {},
   "outputs": [],
   "source": [
    "import requests\n",
    "from time import sleep\n",
    "from matplotlib import pyplot as plt\n",
    "from bs4 import BeautifulSoup\n",
    "from dateutil.parser import parse\n",
    "import pandas as pd"
   ]
  },
  {
   "cell_type": "code",
   "execution_count": 2,
   "metadata": {},
   "outputs": [],
   "source": [
    "URL = \"https://www.worldometers.info/coronavirus\""
   ]
  },
  {
   "cell_type": "code",
   "execution_count": 3,
   "metadata": {},
   "outputs": [],
   "source": [
    "headers = {\"User-Agent\" : \"Mozilla/5.0 (Windows NT 10.0; Win64; x64) AppleWebKit/537.36 (KHTML, like Gecko) Chrome/80.0.3987.132 Safari/537.36\"}\n",
    "page = requests.get(URL, headers=headers)\n",
    "soup = BeautifulSoup(page.content, 'html.parser')"
   ]
  },
  {
   "cell_type": "code",
   "execution_count": 4,
   "metadata": {},
   "outputs": [],
   "source": [
    "cases = int(soup.find_all(\"div\",{\"class\":\"maincounter-number\"})[0].span.get_text().strip().replace(\",\",\"\"))\n",
    "deaths = int(soup.find_all(\"div\",{\"class\":\"maincounter-number\"})[1].span.get_text().strip().replace(\",\",\"\"))\n",
    "recoveries = int(soup.find_all(\"div\",{\"class\":\"maincounter-number\"})[2].span.get_text().strip().replace(\",\",\"\"))\n",
    "mild_condition = int(soup.find_all(\"span\",{\"class\":\"number-table\"})[0].get_text().strip().replace(\",\",\"\"))"
   ]
  },
  {
   "cell_type": "code",
   "execution_count": 5,
   "metadata": {},
   "outputs": [],
   "source": [
    "closed_cases = recoveries + deaths"
   ]
  },
  {
   "cell_type": "code",
   "execution_count": 6,
   "metadata": {},
   "outputs": [],
   "source": [
    "active_cases = cases - recoveries - deaths"
   ]
  },
  {
   "cell_type": "code",
   "execution_count": 7,
   "metadata": {},
   "outputs": [],
   "source": [
    "critical = active_cases - mild_condition"
   ]
  },
  {
   "cell_type": "code",
   "execution_count": 8,
   "metadata": {},
   "outputs": [],
   "source": [
    "last_updated = soup.find(\"div\", {\"style\":\"font-size:13px; color:#999; text-align:center\"}).get_text().strip(\"Last updated: \")\n",
    "last_updated = parse(last_updated, fuzzy=True)"
   ]
  },
  {
   "cell_type": "code",
   "execution_count": 9,
   "metadata": {},
   "outputs": [],
   "source": [
    "header = soup.find_all(\"th\")\n",
    "table = soup.find_all(\"td\")"
   ]
  },
  {
   "cell_type": "code",
   "execution_count": 10,
   "metadata": {},
   "outputs": [],
   "source": [
    "headers = []\n",
    "for i in range(len(header)):\n",
    "    headers.append(header[i].get_text().strip())"
   ]
  },
  {
   "cell_type": "code",
   "execution_count": 11,
   "metadata": {},
   "outputs": [],
   "source": [
    "corona_data = pd.DataFrame(columns=headers)"
   ]
  },
  {
   "cell_type": "code",
   "execution_count": 12,
   "metadata": {},
   "outputs": [],
   "source": [
    "rows = int(len(table)/len(header))\n",
    "cols = int(len(table))"
   ]
  },
  {
   "cell_type": "code",
   "execution_count": 13,
   "metadata": {},
   "outputs": [],
   "source": [
    "values = []\n",
    "for i in range(cols):\n",
    "    values.append(table[i].get_text().strip())"
   ]
  },
  {
   "cell_type": "code",
   "execution_count": 14,
   "metadata": {},
   "outputs": [],
   "source": [
    "for i in range(rows):\n",
    "    corona_data.loc[len(corona_data)] = values[i*9:(i+1)*9]"
   ]
  },
  {
   "cell_type": "code",
   "execution_count": 15,
   "metadata": {},
   "outputs": [],
   "source": [
    "corona_data.set_index(headers[0], inplace=True)"
   ]
  },
  {
   "cell_type": "code",
   "execution_count": 16,
   "metadata": {},
   "outputs": [],
   "source": [
    "corona_data = corona_data.replace('[\\+]', '', regex=True)\n",
    "corona_data = corona_data.replace(',', '', regex=True)"
   ]
  },
  {
   "cell_type": "code",
   "execution_count": 17,
   "metadata": {},
   "outputs": [
    {
     "data": {
      "text/html": [
       "<div>\n",
       "<style scoped>\n",
       "    .dataframe tbody tr th:only-of-type {\n",
       "        vertical-align: middle;\n",
       "    }\n",
       "\n",
       "    .dataframe tbody tr th {\n",
       "        vertical-align: top;\n",
       "    }\n",
       "\n",
       "    .dataframe thead th {\n",
       "        text-align: right;\n",
       "    }\n",
       "</style>\n",
       "<table border=\"1\" class=\"dataframe\">\n",
       "  <thead>\n",
       "    <tr style=\"text-align: right;\">\n",
       "      <th></th>\n",
       "      <th>TotalCases</th>\n",
       "      <th>NewCases</th>\n",
       "      <th>TotalDeaths</th>\n",
       "      <th>NewDeaths</th>\n",
       "      <th>TotalRecovered</th>\n",
       "      <th>ActiveCases</th>\n",
       "      <th>Serious,Critical</th>\n",
       "      <th>Tot Cases/1M pop</th>\n",
       "    </tr>\n",
       "    <tr>\n",
       "      <th>Country,Other</th>\n",
       "      <th></th>\n",
       "      <th></th>\n",
       "      <th></th>\n",
       "      <th></th>\n",
       "      <th></th>\n",
       "      <th></th>\n",
       "      <th></th>\n",
       "      <th></th>\n",
       "    </tr>\n",
       "  </thead>\n",
       "  <tbody>\n",
       "    <tr>\n",
       "      <th>China</th>\n",
       "      <td>80824</td>\n",
       "      <td>11.0</td>\n",
       "      <td>3189.0</td>\n",
       "      <td>13.0</td>\n",
       "      <td>65573.0</td>\n",
       "      <td>12062</td>\n",
       "      <td>3610.0</td>\n",
       "      <td>56.2</td>\n",
       "    </tr>\n",
       "    <tr>\n",
       "      <th>Italy</th>\n",
       "      <td>21157</td>\n",
       "      <td>3497.0</td>\n",
       "      <td>1441.0</td>\n",
       "      <td>175.0</td>\n",
       "      <td>1966.0</td>\n",
       "      <td>17750</td>\n",
       "      <td>1518.0</td>\n",
       "      <td>349.9</td>\n",
       "    </tr>\n",
       "    <tr>\n",
       "      <th>Iran</th>\n",
       "      <td>12729</td>\n",
       "      <td>1365.0</td>\n",
       "      <td>611.0</td>\n",
       "      <td>97.0</td>\n",
       "      <td>4339.0</td>\n",
       "      <td>7779</td>\n",
       "      <td>NaN</td>\n",
       "      <td>151.5</td>\n",
       "    </tr>\n",
       "    <tr>\n",
       "      <th>S. Korea</th>\n",
       "      <td>8086</td>\n",
       "      <td>107.0</td>\n",
       "      <td>72.0</td>\n",
       "      <td>5.0</td>\n",
       "      <td>714.0</td>\n",
       "      <td>7300</td>\n",
       "      <td>59.0</td>\n",
       "      <td>157.7</td>\n",
       "    </tr>\n",
       "    <tr>\n",
       "      <th>Spain</th>\n",
       "      <td>6315</td>\n",
       "      <td>1083.0</td>\n",
       "      <td>193.0</td>\n",
       "      <td>60.0</td>\n",
       "      <td>517.0</td>\n",
       "      <td>5605</td>\n",
       "      <td>293.0</td>\n",
       "      <td>135.1</td>\n",
       "    </tr>\n",
       "    <tr>\n",
       "      <th>...</th>\n",
       "      <td>...</td>\n",
       "      <td>...</td>\n",
       "      <td>...</td>\n",
       "      <td>...</td>\n",
       "      <td>...</td>\n",
       "      <td>...</td>\n",
       "      <td>...</td>\n",
       "      <td>...</td>\n",
       "    </tr>\n",
       "    <tr>\n",
       "      <th>Suriname</th>\n",
       "      <td>1</td>\n",
       "      <td>NaN</td>\n",
       "      <td>NaN</td>\n",
       "      <td>NaN</td>\n",
       "      <td>NaN</td>\n",
       "      <td>1</td>\n",
       "      <td>NaN</td>\n",
       "      <td>NaN</td>\n",
       "    </tr>\n",
       "    <tr>\n",
       "      <th>Eswatini</th>\n",
       "      <td>1</td>\n",
       "      <td>1.0</td>\n",
       "      <td>NaN</td>\n",
       "      <td>NaN</td>\n",
       "      <td>NaN</td>\n",
       "      <td>1</td>\n",
       "      <td>NaN</td>\n",
       "      <td>0.9</td>\n",
       "    </tr>\n",
       "    <tr>\n",
       "      <th>Togo</th>\n",
       "      <td>1</td>\n",
       "      <td>NaN</td>\n",
       "      <td>NaN</td>\n",
       "      <td>NaN</td>\n",
       "      <td>NaN</td>\n",
       "      <td>1</td>\n",
       "      <td>NaN</td>\n",
       "      <td>0.1</td>\n",
       "    </tr>\n",
       "    <tr>\n",
       "      <th>U.S. Virgin Islands</th>\n",
       "      <td>1</td>\n",
       "      <td>1.0</td>\n",
       "      <td>NaN</td>\n",
       "      <td>NaN</td>\n",
       "      <td>NaN</td>\n",
       "      <td>1</td>\n",
       "      <td>NaN</td>\n",
       "      <td>NaN</td>\n",
       "    </tr>\n",
       "    <tr>\n",
       "      <th>Total:</th>\n",
       "      <td>155856</td>\n",
       "      <td>10385.0</td>\n",
       "      <td>5814.0</td>\n",
       "      <td>398.0</td>\n",
       "      <td>74438.0</td>\n",
       "      <td>75604</td>\n",
       "      <td>5908.0</td>\n",
       "      <td>20.0</td>\n",
       "    </tr>\n",
       "  </tbody>\n",
       "</table>\n",
       "<p>152 rows × 8 columns</p>\n",
       "</div>"
      ],
      "text/plain": [
       "                     TotalCases  NewCases  TotalDeaths  NewDeaths  \\\n",
       "Country,Other                                                       \n",
       "China                     80824      11.0       3189.0       13.0   \n",
       "Italy                     21157    3497.0       1441.0      175.0   \n",
       "Iran                      12729    1365.0        611.0       97.0   \n",
       "S. Korea                   8086     107.0         72.0        5.0   \n",
       "Spain                      6315    1083.0        193.0       60.0   \n",
       "...                         ...       ...          ...        ...   \n",
       "Suriname                      1       NaN          NaN        NaN   \n",
       "Eswatini                      1       1.0          NaN        NaN   \n",
       "Togo                          1       NaN          NaN        NaN   \n",
       "U.S. Virgin Islands           1       1.0          NaN        NaN   \n",
       "Total:                   155856   10385.0       5814.0      398.0   \n",
       "\n",
       "                     TotalRecovered  ActiveCases  Serious,Critical  \\\n",
       "Country,Other                                                        \n",
       "China                       65573.0        12062            3610.0   \n",
       "Italy                        1966.0        17750            1518.0   \n",
       "Iran                         4339.0         7779               NaN   \n",
       "S. Korea                      714.0         7300              59.0   \n",
       "Spain                         517.0         5605             293.0   \n",
       "...                             ...          ...               ...   \n",
       "Suriname                        NaN            1               NaN   \n",
       "Eswatini                        NaN            1               NaN   \n",
       "Togo                            NaN            1               NaN   \n",
       "U.S. Virgin Islands             NaN            1               NaN   \n",
       "Total:                      74438.0        75604            5908.0   \n",
       "\n",
       "                     Tot Cases/1M pop  \n",
       "Country,Other                          \n",
       "China                            56.2  \n",
       "Italy                           349.9  \n",
       "Iran                            151.5  \n",
       "S. Korea                        157.7  \n",
       "Spain                           135.1  \n",
       "...                               ...  \n",
       "Suriname                          NaN  \n",
       "Eswatini                          0.9  \n",
       "Togo                              0.1  \n",
       "U.S. Virgin Islands               NaN  \n",
       "Total:                           20.0  \n",
       "\n",
       "[152 rows x 8 columns]"
      ]
     },
     "execution_count": 17,
     "metadata": {},
     "output_type": "execute_result"
    }
   ],
   "source": [
    "corona_data.apply(pd.to_numeric)"
   ]
  }
 ],
 "metadata": {
  "kernelspec": {
   "display_name": "Python 3",
   "language": "python",
   "name": "python3"
  },
  "language_info": {
   "codemirror_mode": {
    "name": "ipython",
    "version": 3
   },
   "file_extension": ".py",
   "mimetype": "text/x-python",
   "name": "python",
   "nbconvert_exporter": "python",
   "pygments_lexer": "ipython3",
   "version": "3.7.4"
  }
 },
 "nbformat": 4,
 "nbformat_minor": 4
}
